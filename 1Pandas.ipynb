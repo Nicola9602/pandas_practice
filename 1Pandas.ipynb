{
 "cells": [
  {
   "cell_type": "code",
   "execution_count": 2,
   "metadata": {},
   "outputs": [
    {
     "ename": "ModuleNotFoundError",
     "evalue": "No module named 'pandas'",
     "output_type": "error",
     "traceback": [
      "\u001b[1;31m---------------------------------------------------------------------------\u001b[0m",
      "\u001b[1;31mModuleNotFoundError\u001b[0m                       Traceback (most recent call last)",
      "Cell \u001b[1;32mIn[2], line 1\u001b[0m\n\u001b[1;32m----> 1\u001b[0m \u001b[38;5;28;01mimport\u001b[39;00m \u001b[38;5;21;01mpandas\u001b[39;00m \u001b[38;5;28;01mas\u001b[39;00m \u001b[38;5;21;01mpd\u001b[39;00m\n\u001b[0;32m      2\u001b[0m \u001b[38;5;28;01mimport\u001b[39;00m \u001b[38;5;21;01mnumpy\u001b[39;00m \u001b[38;5;28;01mas\u001b[39;00m \u001b[38;5;21;01mnp\u001b[39;00m\n",
      "\u001b[1;31mModuleNotFoundError\u001b[0m: No module named 'pandas'"
     ]
    }
   ],
   "source": [
    "import pandas as pd\n",
    "import numpy as np"
   ]
  },
  {
   "cell_type": "code",
   "execution_count": 5,
   "metadata": {},
   "outputs": [
    {
     "name": "stderr",
     "output_type": "stream",
     "text": [
      "C:\\Users\\nicol\\AppData\\Local\\Temp\\ipykernel_11572\\324277255.py:2: DtypeWarning: Columns (203,205,206,207,217,218,221,222,233,234,236,237,239,240,244,245,247,262,279,286,287,291,292,294,296,298,299,300,301,304,305,306,311,312,366,379,394) have mixed types. Specify dtype option on import or set low_memory=False.\n",
      "  df1 = pd.read_csv('players1.csv', encoding='ISO-8859-1', sep=\";\" )\n",
      "C:\\Users\\nicol\\AppData\\Local\\Temp\\ipykernel_11572\\324277255.py:3: DtypeWarning: Columns (203,205,206,207,217,218,221,222,233,234,236,237,239,240,244,245,247,262,279,286,287,291,292,294,296,298,299,300,301,304,305,306,311,312,366,379,394) have mixed types. Specify dtype option on import or set low_memory=False.\n",
      "  df2 = pd.read_csv('players1.csv', encoding='ISO-8859-1', sep=';')\n"
     ]
    }
   ],
   "source": [
    "#Ex1: Loading data\n",
    "df1 = pd.read_csv('players1.csv', encoding='ISO-8859-1', sep=\";\" )\n",
    "df2 = pd.read_csv('players1.csv', encoding='ISO-8859-1', sep=';')"
   ]
  },
  {
   "cell_type": "code",
   "execution_count": 9,
   "metadata": {},
   "outputs": [
    {
     "name": "stdout",
     "output_type": "stream",
     "text": [
      "d1: (2571, 399)\n",
      "df2: (2571, 399)\n",
      "df: (5142, 399)\n"
     ]
    }
   ],
   "source": [
    "#Ex3: Data Concat\n",
    "print(\"d1:\", df1.shape)\n",
    "print(\"df2:\", df2.shape)\n",
    "df = pd.concat([df1, df2])\n",
    "print(\"df:\", df.shape)"
   ]
  },
  {
   "cell_type": "code",
   "execution_count": 13,
   "metadata": {},
   "outputs": [
    {
     "name": "stdout",
     "output_type": "stream",
     "text": [
      "['player', 'nationality', 'position', 'squad', 'age', 'birth_year', 'value', 'height', 'position2', 'foot', 'league', 'games', 'games_starts', 'minutes', 'goals', 'assists', 'pens_made', 'pens_att', 'cards_yellow', 'cards_red', 'goals_per90', 'assists_per90', 'goals_assists_per90', 'goals_pens_per90', 'goals_assists_pens_per90', 'xg', 'npxg', 'xa', 'xg_per90', 'xa_per90', 'xg_xa_per90', 'npxg_per90', 'npxg_xa_per90', 'minutes_90s', 'shots_total', 'shots_on_target', 'shots_free_kicks', 'shots_on_target_pct', 'shots_total_per90', 'shots_on_target_per90', 'goals_per_shot', 'goals_per_shot_on_target', 'npxg_per_shot', 'xg_net', 'npxg_net', 'passes_completed', 'passes', 'passes_pct', 'passes_total_distance', 'passes_progressive_distance', 'passes_completed_short', 'passes_short', 'passes_pct_short', 'passes_completed_medium', 'passes_medium', 'passes_pct_medium', 'passes_completed_long', 'passes_long', 'passes_pct_long', 'xa_net', 'assisted_shots', 'passes_into_final_third', 'passes_into_penalty_area', 'crosses_into_penalty_area', 'progressive_passes', 'passes_live', 'passes_dead', 'passes_free_kicks', 'through_balls', 'passes_pressure', 'passes_switches', 'crosses', 'corner_kicks', 'corner_kicks_in', 'corner_kicks_out', 'corner_kicks_straight', 'passes_ground', 'passes_low', 'passes_high', 'passes_left_foot', 'passes_right_foot', 'passes_head', 'throw_ins', 'passes_other_body', 'passes_offsides', 'passes_oob', 'passes_intercepted', 'passes_blocked', 'sca', 'sca_per90', 'sca_passes_live', 'sca_passes_dead', 'sca_dribbles', 'sca_shots', 'sca_fouled', 'gca', 'gca_per90', 'gca_passes_live', 'gca_passes_dead', 'gca_dribbles', 'gca_shots', 'gca_fouled', 'gca_og_for', 'tackles', 'tackles_won', 'tackles_def_3rd', 'tackles_mid_3rd', 'tackles_att_3rd', 'dribble_tackles', 'dribbles_vs', 'dribble_tackles_pct', 'dribbled_past', 'pressures', 'pressure_regains', 'pressure_regain_pct', 'pressures_def_3rd', 'pressures_mid_3rd', 'pressures_att_3rd', 'blocks', 'blocked_shots', 'blocked_shots_saves', 'blocked_passes', 'interceptions', 'clearances', 'errors', 'touches', 'touches_def_pen_area', 'touches_def_3rd', 'touches_mid_3rd', 'touches_att_3rd', 'touches_att_pen_area', 'touches_live_ball', 'dribbles_completed', 'dribbles', 'dribbles_completed_pct', 'players_dribbled_past', 'nutmegs', 'carries', 'carry_distance', 'carry_progressive_distance', 'pass_targets', 'passes_received', 'passes_received_pct', 'miscontrols', 'dispossessed', 'cards_yellow_red', 'fouls', 'fouled', 'offsides', 'pens_won', 'pens_conceded', 'own_goals', 'ball_recoveries', 'aerials_won', 'aerials_lost', 'aerials_won_pct', 'games_gk', 'games_starts_gk', 'minutes_gk', 'goals_against_gk', 'goals_against_per90_gk', 'shots_on_target_against', 'saves', 'save_pct', 'wins_gk', 'draws_gk', 'losses_gk', 'clean_sheets', 'clean_sheets_pct', 'pens_att_gk', 'pens_allowed', 'pens_saved', 'pens_missed_gk', 'minutes_90s_gk', 'free_kick_goals_against_gk', 'corner_kick_goals_against_gk', 'own_goals_against_gk', 'psxg_gk', 'psnpxg_per_shot_on_target_against', 'psxg_net_gk', 'psxg_net_per90_gk', 'passes_completed_launched_gk', 'passes_launched_gk', 'passes_pct_launched_gk', 'passes_gk', 'passes_throws_gk', 'pct_passes_launched_gk', 'passes_length_avg_gk', 'goal_kicks', 'pct_goal_kicks_launched', 'goal_kick_length_avg', 'crosses_gk', 'crosses_stopped_gk', 'crosses_stopped_pct_gk', 'def_actions_outside_pen_area_gk', 'def_actions_outside_pen_area_per90_gk', 'avg_distance_def_actions_gk', 'goalsm', 'assistsm', 'pens_madem', 'pens_attm', 'cards_yellowm', 'cards_redm', 'goals_per90m', 'assists_per90m', 'goals_assists_per90m', 'goals_pens_per90m', 'goals_assists_pens_per90m', 'xgm', 'npxgm', 'xam', 'xg_per90m', 'xa_per90m', 'xg_xa_per90m', 'npxg_per90m', 'npxg_xa_per90m', 'minutes_90sm', 'shots_totalm', 'shots_on_targetm', 'shots_free_kicksm', 'shots_on_target_pctm', 'shots_total_per90m', 'shots_on_target_per90m', 'goals_per_shotm', 'goals_per_shot_on_targetm', 'npxg_per_shotm', 'xg_netm', 'npxg_netm', 'passes_completedm', 'passesm', 'passes_pctm', 'passes_total_distancem', 'passes_progressive_distancem', 'passes_completed_shortm', 'passes_shortm', 'passes_pct_shortm', 'passes_completed_mediumm', 'passes_mediumm', 'passes_pct_mediumm', 'passes_completed_longm', 'passes_longm', 'passes_pct_longm', 'xa_netm', 'assisted_shotsm', 'passes_into_final_thirdm', 'passes_into_penalty_aream', 'crosses_into_penalty_aream', 'progressive_passesm', 'passes_livem', 'passes_deadm', 'passes_free_kicksm', 'through_ballsm', 'passes_pressurem', 'passes_switchesm', 'crossesm', 'corner_kicksm', 'corner_kicks_inm', 'corner_kicks_outm', 'corner_kicks_straightm', 'passes_groundm', 'passes_lowm', 'passes_highm', 'passes_left_footm', 'passes_right_footm', 'passes_headm', 'throw_insm', 'passes_other_bodym', 'passes_offsidesm', 'passes_oobm', 'passes_interceptedm', 'passes_blockedm', 'scam', 'sca_per90m', 'sca_passes_livem', 'sca_passes_deadm', 'sca_dribblesm', 'sca_shotsm', 'sca_fouledm', 'gcam', 'gca_per90m', 'gca_passes_livem', 'gca_passes_deadm', 'gca_dribblesm', 'gca_shotsm', 'gca_fouledm', 'gca_og_form', 'tacklesm', 'tackles_wonm', 'tackles_def_3rdm', 'tackles_mid_3rdm', 'tackles_att_3rdm', 'dribble_tacklesm', 'dribbles_vsm', 'dribble_tackles_pctm', 'dribbled_pastm', 'pressuresm', 'pressure_regainsm', 'pressure_regain_pctm', 'pressures_def_3rdm', 'pressures_mid_3rdm', 'pressures_att_3rdm', 'blocksm', 'blocked_shotsm', 'blocked_shots_savesm', 'blocked_passesm', 'interceptionsm', 'clearancesm', 'errorsm', 'touchesm', 'touches_def_pen_aream', 'touches_def_3rdm', 'touches_mid_3rdm', 'touches_att_3rdm', 'touches_att_pen_aream', 'touches_live_ballm', 'dribbles_completedm', 'dribblesm', 'dribbles_completed_pctm', 'players_dribbled_pastm', 'nutmegsm', 'carriesm', 'carry_distancem', 'carry_progressive_distancem', 'pass_targetsm', 'passes_receivedm', 'passes_received_pctm', 'miscontrolsm', 'dispossessedm', 'cards_yellow_redm', 'foulsm', 'fouledm', 'offsidesm', 'pens_wonm', 'pens_concededm', 'own_goalsm', 'ball_recoveriesm', 'aerials_wonm', 'aerials_lostm', 'aerials_won_pctm', 'games_gkm', 'games_starts_gkm', 'minutes_gkm', 'goals_against_gkm', 'goals_against_per90_gkm', 'shots_on_target_againstm', 'savesm', 'save_pctm', 'wins_gkm', 'draws_gkm', 'losses_gkm', 'clean_sheetsm', 'clean_sheets_pctm', 'pens_att_gkm', 'pens_allowedm', 'pens_savedm', 'pens_missed_gkm', 'minutes_90s_gkm', 'free_kick_goals_against_gkm', 'corner_kick_goals_against_gkm', 'own_goals_against_gkm', 'psxg_gkm', 'psnpxg_per_shot_on_target_againstm', 'psxg_net_gkm', 'psxg_net_per90_gkm', 'passes_completed_launched_gkm', 'passes_launched_gkm', 'passes_pct_launched_gkm', 'passes_gkm', 'passes_throws_gkm', 'pct_passes_launched_gkm', 'passes_length_avg_gkm', 'goal_kicksm', 'pct_goal_kicks_launchedm', 'goal_kick_length_avgm', 'crosses_gkm', 'crosses_stopped_gkm', 'crosses_stopped_pct_gkm', 'def_actions_outside_pen_area_gkm', 'def_actions_outside_pen_area_per90_gkm', 'avg_distance_def_actions_gkm', 'LgRk', 'MP', 'W', 'D', 'L', 'GF', 'GA', 'GDiff', 'Pts', 'Pts/G', 'xG', 'xGA', 'xGDiff', 'xGDiff/90', 'Attendance', 'CL', 'WinCL', 'CLBestScorer', 'Season']\n"
     ]
    }
   ],
   "source": [
    "print(list(df.columns))"
   ]
  },
  {
   "cell_type": "code",
   "execution_count": 30,
   "metadata": {},
   "outputs": [
    {
     "data": {
      "text/html": [
       "<div>\n",
       "<style scoped>\n",
       "    .dataframe tbody tr th:only-of-type {\n",
       "        vertical-align: middle;\n",
       "    }\n",
       "\n",
       "    .dataframe tbody tr th {\n",
       "        vertical-align: top;\n",
       "    }\n",
       "\n",
       "    .dataframe thead th {\n",
       "        text-align: right;\n",
       "    }\n",
       "</style>\n",
       "<table border=\"1\" class=\"dataframe\">\n",
       "  <thead>\n",
       "    <tr style=\"text-align: right;\">\n",
       "      <th></th>\n",
       "      <th>player</th>\n",
       "      <th>goals</th>\n",
       "    </tr>\n",
       "  </thead>\n",
       "  <tbody>\n",
       "    <tr>\n",
       "      <th>1873</th>\n",
       "      <td>Karim Benzema</td>\n",
       "      <td>21</td>\n",
       "    </tr>\n",
       "    <tr>\n",
       "      <th>2061</th>\n",
       "      <td>Francesco Caputo</td>\n",
       "      <td>21</td>\n",
       "    </tr>\n",
       "    <tr>\n",
       "      <th>2061</th>\n",
       "      <td>Francesco Caputo</td>\n",
       "      <td>21</td>\n",
       "    </tr>\n",
       "    <tr>\n",
       "      <th>1873</th>\n",
       "      <td>Karim Benzema</td>\n",
       "      <td>21</td>\n",
       "    </tr>\n",
       "    <tr>\n",
       "      <th>77</th>\n",
       "      <td>Pierre-Emerick Aubameyang</td>\n",
       "      <td>22</td>\n",
       "    </tr>\n",
       "    <tr>\n",
       "      <th>2172</th>\n",
       "      <td>Danny Ings</td>\n",
       "      <td>22</td>\n",
       "    </tr>\n",
       "    <tr>\n",
       "      <th>2172</th>\n",
       "      <td>Danny Ings</td>\n",
       "      <td>22</td>\n",
       "    </tr>\n",
       "    <tr>\n",
       "      <th>77</th>\n",
       "      <td>Pierre-Emerick Aubameyang</td>\n",
       "      <td>22</td>\n",
       "    </tr>\n",
       "    <tr>\n",
       "      <th>1200</th>\n",
       "      <td>Jamie Vardy</td>\n",
       "      <td>23</td>\n",
       "    </tr>\n",
       "    <tr>\n",
       "      <th>1025</th>\n",
       "      <td>Romelu Lukaku</td>\n",
       "      <td>23</td>\n",
       "    </tr>\n",
       "    <tr>\n",
       "      <th>1200</th>\n",
       "      <td>Jamie Vardy</td>\n",
       "      <td>23</td>\n",
       "    </tr>\n",
       "    <tr>\n",
       "      <th>1025</th>\n",
       "      <td>Romelu Lukaku</td>\n",
       "      <td>23</td>\n",
       "    </tr>\n",
       "    <tr>\n",
       "      <th>250</th>\n",
       "      <td>Lionel Messi</td>\n",
       "      <td>25</td>\n",
       "    </tr>\n",
       "    <tr>\n",
       "      <th>250</th>\n",
       "      <td>Lionel Messi</td>\n",
       "      <td>25</td>\n",
       "    </tr>\n",
       "    <tr>\n",
       "      <th>1868</th>\n",
       "      <td>Timo Werner</td>\n",
       "      <td>28</td>\n",
       "    </tr>\n",
       "    <tr>\n",
       "      <th>1868</th>\n",
       "      <td>Timo Werner</td>\n",
       "      <td>28</td>\n",
       "    </tr>\n",
       "    <tr>\n",
       "      <th>1061</th>\n",
       "      <td>Cristiano Ronaldo</td>\n",
       "      <td>31</td>\n",
       "    </tr>\n",
       "    <tr>\n",
       "      <th>1061</th>\n",
       "      <td>Cristiano Ronaldo</td>\n",
       "      <td>31</td>\n",
       "    </tr>\n",
       "    <tr>\n",
       "      <th>1107</th>\n",
       "      <td>Ciro Immobile</td>\n",
       "      <td>36</td>\n",
       "    </tr>\n",
       "    <tr>\n",
       "      <th>1107</th>\n",
       "      <td>Ciro Immobile</td>\n",
       "      <td>36</td>\n",
       "    </tr>\n",
       "  </tbody>\n",
       "</table>\n",
       "</div>"
      ],
      "text/plain": [
       "                         player  goals\n",
       "1873              Karim Benzema     21\n",
       "2061           Francesco Caputo     21\n",
       "2061           Francesco Caputo     21\n",
       "1873              Karim Benzema     21\n",
       "77    Pierre-Emerick Aubameyang     22\n",
       "2172                 Danny Ings     22\n",
       "2172                 Danny Ings     22\n",
       "77    Pierre-Emerick Aubameyang     22\n",
       "1200                Jamie Vardy     23\n",
       "1025              Romelu Lukaku     23\n",
       "1200                Jamie Vardy     23\n",
       "1025              Romelu Lukaku     23\n",
       "250                Lionel Messi     25\n",
       "250                Lionel Messi     25\n",
       "1868                Timo Werner     28\n",
       "1868                Timo Werner     28\n",
       "1061          Cristiano Ronaldo     31\n",
       "1061          Cristiano Ronaldo     31\n",
       "1107              Ciro Immobile     36\n",
       "1107              Ciro Immobile     36"
      ]
     },
     "execution_count": 30,
     "metadata": {},
     "output_type": "execute_result"
    }
   ],
   "source": [
    "#Ex4: Players who have scored more than 20 goals\n",
    "df.loc[df['goals']>20, ['player', 'goals']].sort_values('goals', ascending=True)\n"
   ]
  },
  {
   "cell_type": "code",
   "execution_count": null,
   "metadata": {},
   "outputs": [],
   "source": [
    "#Ex5: Most goals per minutes\n"
   ]
  },
  {
   "cell_type": "code",
   "execution_count": null,
   "metadata": {},
   "outputs": [],
   "source": [
    "#Ex6: Correlation between height and goals"
   ]
  },
  {
   "cell_type": "code",
   "execution_count": null,
   "metadata": {},
   "outputs": [],
   "source": [
    "#Ex7: Insertion of Top_Player column"
   ]
  },
  {
   "cell_type": "code",
   "execution_count": null,
   "metadata": {},
   "outputs": [],
   "source": [
    "\n",
    "#Ex8: Average league value"
   ]
  }
 ],
 "metadata": {
  "kernelspec": {
   "display_name": "spyder-env",
   "language": "python",
   "name": "python3"
  },
  "language_info": {
   "codemirror_mode": {
    "name": "ipython",
    "version": 3
   },
   "file_extension": ".py",
   "mimetype": "text/x-python",
   "name": "python",
   "nbconvert_exporter": "python",
   "pygments_lexer": "ipython3",
   "version": "3.10.12"
  }
 },
 "nbformat": 4,
 "nbformat_minor": 2
}
